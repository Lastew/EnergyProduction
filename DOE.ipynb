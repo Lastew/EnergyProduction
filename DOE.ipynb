{
 "cells": [
  {
   "cell_type": "code",
   "execution_count": 1,
   "metadata": {
    "collapsed": true
   },
   "outputs": [],
   "source": [
    "import pandas as pd\n",
    "import json\n",
    "import requests"
   ]
  },
  {
   "cell_type": "code",
   "execution_count": 2,
   "metadata": {
    "collapsed": true
   },
   "outputs": [],
   "source": [
    "url = r\"http://api.eia.gov/series/?api_key=\"\n",
    "#api_key = \"b26796779afd6f8b68e04d2ee1c4a3eb\"\n",
    "lst = \"&series_id=ELEC.GEN.ALL-DC-99.M\""
   ]
  },
  {
   "cell_type": "code",
   "execution_count": null,
   "metadata": {
    "collapsed": true
   },
   "outputs": [],
   "source": [
    "# read the file and store the API key as a variable\n",
    "with open(\"doe.txt\",\"r\") as file:\n",
    "    for line in file:\n",
    "        api_key = line"
   ]
  },
  {
   "cell_type": "code",
   "execution_count": 4,
   "metadata": {},
   "outputs": [
    {
     "data": {
      "text/plain": [
       "<Response [200]>"
      ]
     },
     "execution_count": 4,
     "metadata": {},
     "output_type": "execute_result"
    }
   ],
   "source": [
    "# request the website \n",
    "response = requests.get(url+api_key+lst)\n",
    "response"
   ]
  },
  {
   "cell_type": "code",
   "execution_count": 7,
   "metadata": {},
   "outputs": [
    {
     "data": {
      "text/plain": [
       "{'request': {'command': 'series', 'series_id': 'ELEC.GEN.ALL-DC-99.M'},\n",
       " 'series': [{'copyright': 'None',\n",
       "   'data': [['201812', 8.232],\n",
       "    ['201811', 4.205],\n",
       "    ['201810', 3.796],\n",
       "    ['201809', 6.007],\n",
       "    ['201808', 4.698],\n",
       "    ['201807', 9.104],\n",
       "    ['201806', 6.552],\n",
       "    ['201805', 3.814],\n",
       "    ['201804', 9.69524],\n",
       "    ['201803', 8.844],\n",
       "    ['201802', 7.593],\n",
       "    ['201801', 6.937],\n",
       "    ['201712', 5.902],\n",
       "    ['201711', 4.285],\n",
       "    ['201710', 4.692],\n",
       "    ['201709', 5.197],\n",
       "    ['201708', 2.615],\n",
       "    ['201707', 5.666],\n",
       "    ['201706', 5.927],\n",
       "    ['201705', 4.614],\n",
       "    ['201704', 3.865],\n",
       "    ['201703', 8.894],\n",
       "    ['201702', 5.497],\n",
       "    ['201701', 9.717],\n",
       "    ['201612', 6.51682],\n",
       "    ['201611', 6.00016],\n",
       "    ['201610', 5.66528],\n",
       "    ['201609', 6.10052],\n",
       "    ['201608', 6.97555],\n",
       "    ['201607', 7.03388],\n",
       "    ['201606', 6.61652],\n",
       "    ['201605', 6.60897],\n",
       "    ['201604', 6.41554],\n",
       "    ['201603', 6.18731],\n",
       "    ['201602', 5.93492],\n",
       "    ['201601', 6.41855],\n",
       "    ['201512', 6.68545],\n",
       "    ['201511', 6.40884],\n",
       "    ['201510', 6.42552],\n",
       "    ['201509', 6.06837],\n",
       "    ['201508', 6.64876],\n",
       "    ['201507', 6.90417],\n",
       "    ['201506', 5.97757],\n",
       "    ['201505', 1.95063],\n",
       "    ['201504', 1.71792],\n",
       "    ['201503', 1.67533],\n",
       "    ['201502', 1.57456],\n",
       "    ['201501', 1.71289],\n",
       "    ['201412', 5.23709],\n",
       "    ['201411', 4.84131],\n",
       "    ['201410', 5.60175],\n",
       "    ['201409', 6.38127],\n",
       "    ['201408', 7.24404],\n",
       "    ['201407', 6.87549],\n",
       "    ['201406', 6.25568],\n",
       "    ['201405', 5.83832],\n",
       "    ['201404', 5.25072],\n",
       "    ['201403', 5.02127],\n",
       "    ['201402', 3.83656],\n",
       "    ['201401', 5.22866],\n",
       "    ['201312', 4.79428],\n",
       "    ['201311', 4.81412],\n",
       "    ['201310', 5.59004],\n",
       "    ['201309', 6.0465],\n",
       "    ['201308', 6.69003],\n",
       "    ['201307', 6.42078],\n",
       "    ['201306', 5.96759],\n",
       "    ['201305', 5.33605],\n",
       "    ['201304', 4.9906],\n",
       "    ['201303', 5.1073],\n",
       "    ['201302', 5.04702],\n",
       "    ['201301', 5.04778],\n",
       "    ['201212', 4.74765],\n",
       "    ['201211', 4.14174],\n",
       "    ['201210', 4.92087],\n",
       "    ['201209', 5.68072],\n",
       "    ['201208', 6.2387],\n",
       "    ['201207', 6.74497],\n",
       "    ['201206', 5.72304],\n",
       "    ['201205', 11.85202],\n",
       "    ['201204', 7.15931],\n",
       "    ['201203', 4.80981],\n",
       "    ['201202', 4.3837],\n",
       "    ['201201', 5.38425],\n",
       "    ['201112', 5.63726],\n",
       "    ['201111', 5.14364],\n",
       "    ['201110', 5.92334],\n",
       "    ['201109', 8.82012],\n",
       "    ['201108', 32.86951],\n",
       "    ['201107', 80.62099],\n",
       "    ['201106', 31.27807],\n",
       "    ['201105', 9.1561],\n",
       "    ['201104', 5.48893],\n",
       "    ['201103', 4.92537],\n",
       "    ['201102', 4.25041],\n",
       "    ['201101', 6.76022],\n",
       "    ['201012', 5.37],\n",
       "    ['201011', 0],\n",
       "    ['201010', 3.376],\n",
       "    ['201009', 14.703],\n",
       "    ['201008', 23.994],\n",
       "    ['201007', 50.938],\n",
       "    ['201006', 74.421],\n",
       "    ['201005', 23.925],\n",
       "    ['201004', 0.805],\n",
       "    ['201003', 2.326],\n",
       "    ['201002', 0],\n",
       "    ['201001', 0],\n",
       "    ['200912', 0.406],\n",
       "    ['200911', 0],\n",
       "    ['200910', 0],\n",
       "    ['200909', 0],\n",
       "    ['200908', 11.677],\n",
       "    ['200907', 6.057],\n",
       "    ['200906', 7.917],\n",
       "    ['200905', 0.183],\n",
       "    ['200904', 0.581],\n",
       "    ['200903', 0],\n",
       "    ['200902', 2.875],\n",
       "    ['200901', 5.803],\n",
       "    ['200812', 0],\n",
       "    ['200811', 0],\n",
       "    ['200810', 2.741],\n",
       "    ['200809', 0.579],\n",
       "    ['200808', 5.479],\n",
       "    ['200807', 8.742],\n",
       "    ['200806', 50.119],\n",
       "    ['200805', 0],\n",
       "    ['200804', 0],\n",
       "    ['200803', 0.401],\n",
       "    ['200802', 1.258],\n",
       "    ['200801', 2.997],\n",
       "    ['200712', -0.521],\n",
       "    ['200711', -0.707],\n",
       "    ['200710', 3.636],\n",
       "    ['200709', 5.516],\n",
       "    ['200708', 40.581],\n",
       "    ['200707', 11.312],\n",
       "    ['200706', 14.143],\n",
       "    ['200705', -0.318],\n",
       "    ['200704', -0.316],\n",
       "    ['200703', -0.239],\n",
       "    ['200702', 2.682],\n",
       "    ['200701', -0.518],\n",
       "    ['200612', 2.69],\n",
       "    ['200611', -0.659],\n",
       "    ['200610', 0.553],\n",
       "    ['200609', -0.516],\n",
       "    ['200608', 47.754],\n",
       "    ['200607', 22.549],\n",
       "    ['200606', 3.743],\n",
       "    ['200605', 1.706],\n",
       "    ['200604', 0.15],\n",
       "    ['200603', -0.329],\n",
       "    ['200602', 1.474],\n",
       "    ['200601', 2.352],\n",
       "    ['200512', 4.789],\n",
       "    ['200511', 0.003],\n",
       "    ['200510', 9.168],\n",
       "    ['200509', 3.973],\n",
       "    ['200508', 75.277],\n",
       "    ['200507', 90.491],\n",
       "    ['200506', 42.336],\n",
       "    ['200505', -0.61],\n",
       "    ['200504', -0.599],\n",
       "    ['200503', -1.094],\n",
       "    ['200502', 0.215],\n",
       "    ['200501', 2.093],\n",
       "    ['200412', 4.07],\n",
       "    ['200411', -0.698],\n",
       "    ['200410', -0.634],\n",
       "    ['200409', 1.001],\n",
       "    ['200408', 4.605],\n",
       "    ['200407', 1.68],\n",
       "    ['200406', 6.154],\n",
       "    ['200405', 2.674],\n",
       "    ['200404', -0.563],\n",
       "    ['200403', 0.549],\n",
       "    ['200402', 1.829],\n",
       "    ['200401', 15.82],\n",
       "    ['200312', -0.793],\n",
       "    ['200311', -0.645],\n",
       "    ['200310', -0.625],\n",
       "    ['200309', -0.599],\n",
       "    ['200308', 24.567],\n",
       "    ['200307', 10.741],\n",
       "    ['200306', 3.552],\n",
       "    ['200305', 1.614],\n",
       "    ['200304', 0.764],\n",
       "    ['200303', 13.086],\n",
       "    ['200302', 12.549],\n",
       "    ['200301', 9.933],\n",
       "    ['200212', 3.589],\n",
       "    ['200211', 0.421],\n",
       "    ['200210', -0.565],\n",
       "    ['200209', 3.17],\n",
       "    ['200208', 85.726],\n",
       "    ['200207', 101.334],\n",
       "    ['200206', 30.828],\n",
       "    ['200205', -0.616],\n",
       "    ['200204', 22.998],\n",
       "    ['200203', 11.399],\n",
       "    ['200202', 4.729],\n",
       "    ['200201', -1.033],\n",
       "    ['200112', 0],\n",
       "    ['200111', 31.622],\n",
       "    ['200110', 3.497],\n",
       "    ['200109', 0],\n",
       "    ['200108', 47.587],\n",
       "    ['200107', 24.107],\n",
       "    ['200106', 0.488],\n",
       "    ['200105', 5.921],\n",
       "    ['200104', 0.766],\n",
       "    ['200103', 0],\n",
       "    ['200102', 0],\n",
       "    ['200101', 9.251]],\n",
       "   'description': 'Summation of all fuels used for electricity generation; All sectors; ',\n",
       "   'end': '201812',\n",
       "   'f': 'M',\n",
       "   'geography': 'USA-DC',\n",
       "   'iso3166': 'USA-DC',\n",
       "   'name': 'Net generation : all fuels : District Of Columbia : all sectors : monthly',\n",
       "   'series_id': 'ELEC.GEN.ALL-DC-99.M',\n",
       "   'source': 'EIA, U.S. Energy Information Administration',\n",
       "   'start': '200101',\n",
       "   'units': 'thousand megawatthours',\n",
       "   'updated': '2019-03-01T00:40:06-0500'}]}"
      ]
     },
     "execution_count": 7,
     "metadata": {},
     "output_type": "execute_result"
    }
   ],
   "source": [
    "energydata = response.json()\n",
    "energydata"
   ]
  },
  {
   "cell_type": "code",
   "execution_count": 21,
   "metadata": {},
   "outputs": [
    {
     "data": {
      "text/plain": [
       "list"
      ]
     },
     "execution_count": 21,
     "metadata": {},
     "output_type": "execute_result"
    }
   ],
   "source": [
    "type(energydata['series'][0]['data']) # type is a list"
   ]
  },
  {
   "cell_type": "code",
   "execution_count": 55,
   "metadata": {},
   "outputs": [
    {
     "data": {
      "text/plain": [
       "[['201812', 8.232],\n",
       " ['201811', 4.205],\n",
       " ['201810', 3.796],\n",
       " ['201809', 6.007],\n",
       " ['201808', 4.698],\n",
       " ['201807', 9.104],\n",
       " ['201806', 6.552],\n",
       " ['201805', 3.814],\n",
       " ['201804', 9.69524],\n",
       " ['201803', 8.844],\n",
       " ['201802', 7.593],\n",
       " ['201801', 6.937],\n",
       " ['201712', 5.902],\n",
       " ['201711', 4.285],\n",
       " ['201710', 4.692],\n",
       " ['201709', 5.197],\n",
       " ['201708', 2.615],\n",
       " ['201707', 5.666],\n",
       " ['201706', 5.927],\n",
       " ['201705', 4.614],\n",
       " ['201704', 3.865],\n",
       " ['201703', 8.894],\n",
       " ['201702', 5.497],\n",
       " ['201701', 9.717],\n",
       " ['201612', 6.51682],\n",
       " ['201611', 6.00016],\n",
       " ['201610', 5.66528],\n",
       " ['201609', 6.10052],\n",
       " ['201608', 6.97555],\n",
       " ['201607', 7.03388],\n",
       " ['201606', 6.61652],\n",
       " ['201605', 6.60897],\n",
       " ['201604', 6.41554],\n",
       " ['201603', 6.18731],\n",
       " ['201602', 5.93492],\n",
       " ['201601', 6.41855],\n",
       " ['201512', 6.68545],\n",
       " ['201511', 6.40884],\n",
       " ['201510', 6.42552],\n",
       " ['201509', 6.06837],\n",
       " ['201508', 6.64876],\n",
       " ['201507', 6.90417],\n",
       " ['201506', 5.97757],\n",
       " ['201505', 1.95063],\n",
       " ['201504', 1.71792],\n",
       " ['201503', 1.67533],\n",
       " ['201502', 1.57456],\n",
       " ['201501', 1.71289],\n",
       " ['201412', 5.23709],\n",
       " ['201411', 4.84131],\n",
       " ['201410', 5.60175],\n",
       " ['201409', 6.38127],\n",
       " ['201408', 7.24404],\n",
       " ['201407', 6.87549],\n",
       " ['201406', 6.25568],\n",
       " ['201405', 5.83832],\n",
       " ['201404', 5.25072],\n",
       " ['201403', 5.02127],\n",
       " ['201402', 3.83656],\n",
       " ['201401', 5.22866],\n",
       " ['201312', 4.79428],\n",
       " ['201311', 4.81412],\n",
       " ['201310', 5.59004],\n",
       " ['201309', 6.0465],\n",
       " ['201308', 6.69003],\n",
       " ['201307', 6.42078],\n",
       " ['201306', 5.96759],\n",
       " ['201305', 5.33605],\n",
       " ['201304', 4.9906],\n",
       " ['201303', 5.1073],\n",
       " ['201302', 5.04702],\n",
       " ['201301', 5.04778],\n",
       " ['201212', 4.74765],\n",
       " ['201211', 4.14174],\n",
       " ['201210', 4.92087],\n",
       " ['201209', 5.68072],\n",
       " ['201208', 6.2387],\n",
       " ['201207', 6.74497],\n",
       " ['201206', 5.72304],\n",
       " ['201205', 11.85202],\n",
       " ['201204', 7.15931],\n",
       " ['201203', 4.80981],\n",
       " ['201202', 4.3837],\n",
       " ['201201', 5.38425],\n",
       " ['201112', 5.63726],\n",
       " ['201111', 5.14364],\n",
       " ['201110', 5.92334],\n",
       " ['201109', 8.82012],\n",
       " ['201108', 32.86951],\n",
       " ['201107', 80.62099],\n",
       " ['201106', 31.27807],\n",
       " ['201105', 9.1561],\n",
       " ['201104', 5.48893],\n",
       " ['201103', 4.92537],\n",
       " ['201102', 4.25041],\n",
       " ['201101', 6.76022],\n",
       " ['201012', 5.37],\n",
       " ['201011', 0],\n",
       " ['201010', 3.376],\n",
       " ['201009', 14.703],\n",
       " ['201008', 23.994],\n",
       " ['201007', 50.938],\n",
       " ['201006', 74.421],\n",
       " ['201005', 23.925],\n",
       " ['201004', 0.805],\n",
       " ['201003', 2.326],\n",
       " ['201002', 0],\n",
       " ['201001', 0],\n",
       " ['200912', 0.406],\n",
       " ['200911', 0],\n",
       " ['200910', 0],\n",
       " ['200909', 0],\n",
       " ['200908', 11.677],\n",
       " ['200907', 6.057],\n",
       " ['200906', 7.917],\n",
       " ['200905', 0.183],\n",
       " ['200904', 0.581],\n",
       " ['200903', 0],\n",
       " ['200902', 2.875],\n",
       " ['200901', 5.803],\n",
       " ['200812', 0],\n",
       " ['200811', 0],\n",
       " ['200810', 2.741],\n",
       " ['200809', 0.579],\n",
       " ['200808', 5.479],\n",
       " ['200807', 8.742],\n",
       " ['200806', 50.119],\n",
       " ['200805', 0],\n",
       " ['200804', 0],\n",
       " ['200803', 0.401],\n",
       " ['200802', 1.258],\n",
       " ['200801', 2.997],\n",
       " ['200712', -0.521],\n",
       " ['200711', -0.707],\n",
       " ['200710', 3.636],\n",
       " ['200709', 5.516],\n",
       " ['200708', 40.581],\n",
       " ['200707', 11.312],\n",
       " ['200706', 14.143],\n",
       " ['200705', -0.318],\n",
       " ['200704', -0.316],\n",
       " ['200703', -0.239],\n",
       " ['200702', 2.682],\n",
       " ['200701', -0.518],\n",
       " ['200612', 2.69],\n",
       " ['200611', -0.659],\n",
       " ['200610', 0.553],\n",
       " ['200609', -0.516],\n",
       " ['200608', 47.754],\n",
       " ['200607', 22.549],\n",
       " ['200606', 3.743],\n",
       " ['200605', 1.706],\n",
       " ['200604', 0.15],\n",
       " ['200603', -0.329],\n",
       " ['200602', 1.474],\n",
       " ['200601', 2.352],\n",
       " ['200512', 4.789],\n",
       " ['200511', 0.003],\n",
       " ['200510', 9.168],\n",
       " ['200509', 3.973],\n",
       " ['200508', 75.277],\n",
       " ['200507', 90.491],\n",
       " ['200506', 42.336],\n",
       " ['200505', -0.61],\n",
       " ['200504', -0.599],\n",
       " ['200503', -1.094],\n",
       " ['200502', 0.215],\n",
       " ['200501', 2.093],\n",
       " ['200412', 4.07],\n",
       " ['200411', -0.698],\n",
       " ['200410', -0.634],\n",
       " ['200409', 1.001],\n",
       " ['200408', 4.605],\n",
       " ['200407', 1.68],\n",
       " ['200406', 6.154],\n",
       " ['200405', 2.674],\n",
       " ['200404', -0.563],\n",
       " ['200403', 0.549],\n",
       " ['200402', 1.829],\n",
       " ['200401', 15.82],\n",
       " ['200312', -0.793],\n",
       " ['200311', -0.645],\n",
       " ['200310', -0.625],\n",
       " ['200309', -0.599],\n",
       " ['200308', 24.567],\n",
       " ['200307', 10.741],\n",
       " ['200306', 3.552],\n",
       " ['200305', 1.614],\n",
       " ['200304', 0.764],\n",
       " ['200303', 13.086],\n",
       " ['200302', 12.549],\n",
       " ['200301', 9.933],\n",
       " ['200212', 3.589],\n",
       " ['200211', 0.421],\n",
       " ['200210', -0.565],\n",
       " ['200209', 3.17],\n",
       " ['200208', 85.726],\n",
       " ['200207', 101.334],\n",
       " ['200206', 30.828],\n",
       " ['200205', -0.616],\n",
       " ['200204', 22.998],\n",
       " ['200203', 11.399],\n",
       " ['200202', 4.729],\n",
       " ['200201', -1.033],\n",
       " ['200112', 0],\n",
       " ['200111', 31.622],\n",
       " ['200110', 3.497],\n",
       " ['200109', 0],\n",
       " ['200108', 47.587],\n",
       " ['200107', 24.107],\n",
       " ['200106', 0.488],\n",
       " ['200105', 5.921],\n",
       " ['200104', 0.766],\n",
       " ['200103', 0],\n",
       " ['200102', 0],\n",
       " ['200101', 9.251]]"
      ]
     },
     "execution_count": 55,
     "metadata": {},
     "output_type": "execute_result"
    }
   ],
   "source": [
    "datas = energydata['series'][0]['data']\n",
    "datas"
   ]
  },
  {
   "cell_type": "code",
   "execution_count": 36,
   "metadata": {},
   "outputs": [
    {
     "data": {
      "text/plain": [
       "8.232"
      ]
     },
     "execution_count": 36,
     "metadata": {},
     "output_type": "execute_result"
    }
   ],
   "source": [
    "energydata['series'][0]['data'][0][1]"
   ]
  },
  {
   "cell_type": "code",
   "execution_count": 88,
   "metadata": {
    "collapsed": true
   },
   "outputs": [],
   "source": [
    "periodlst = []\n",
    "valuelst = []\n",
    "yearlst = []\n",
    "monthlst = []"
   ]
  },
  {
   "cell_type": "code",
   "execution_count": 89,
   "metadata": {},
   "outputs": [],
   "source": [
    "# loop through and append the infos into the empity list \n",
    "for values in datas:\n",
    "    yearmonth = datetime.strptime(values[0],'%Y%m')\n",
    "    year = yearmonth.strftime('%Y')\n",
    "    month = yearmonth.strftime('%m')\n",
    "    #periodlst.append(values[0])\n",
    "    yearlst.append(year)\n",
    "    monthlst.append(month)\n",
    "    \n",
    "    valuelst.append(values[1])\n",
    "    "
   ]
  },
  {
   "cell_type": "code",
   "execution_count": 99,
   "metadata": {},
   "outputs": [
    {
     "name": "stdout",
     "output_type": "stream",
     "text": [
      "216\n",
      "216\n",
      "216\n"
     ]
    }
   ],
   "source": [
    "print(len(yearlst))\n",
    "print(len(monthlst))\n",
    "print(len(valuelst))"
   ]
  },
  {
   "cell_type": "code",
   "execution_count": 59,
   "metadata": {},
   "outputs": [
    {
     "name": "stdout",
     "output_type": "stream",
     "text": [
      "216\n",
      "216\n"
     ]
    }
   ],
   "source": [
    "print(len(periodlst))\n",
    "print(len(valuelst))\n",
    "    "
   ]
  },
  {
   "cell_type": "code",
   "execution_count": 104,
   "metadata": {},
   "outputs": [],
   "source": [
    "DOEdf = {\"Month\":monthlst,\n",
    "         \"Year\":yearlst,\n",
    "         \"Value [thousand megawatthours]\":valuelst}"
   ]
  },
  {
   "cell_type": "code",
   "execution_count": 105,
   "metadata": {},
   "outputs": [
    {
     "data": {
      "text/html": [
       "<div>\n",
       "<style>\n",
       "    .dataframe thead tr:only-child th {\n",
       "        text-align: right;\n",
       "    }\n",
       "\n",
       "    .dataframe thead th {\n",
       "        text-align: left;\n",
       "    }\n",
       "\n",
       "    .dataframe tbody tr th {\n",
       "        vertical-align: top;\n",
       "    }\n",
       "</style>\n",
       "<table border=\"1\" class=\"dataframe\">\n",
       "  <thead>\n",
       "    <tr style=\"text-align: right;\">\n",
       "      <th></th>\n",
       "      <th>Month</th>\n",
       "      <th>Value [thousand megawatthours]</th>\n",
       "      <th>Year</th>\n",
       "    </tr>\n",
       "  </thead>\n",
       "  <tbody>\n",
       "    <tr>\n",
       "      <th>0</th>\n",
       "      <td>12</td>\n",
       "      <td>8.232</td>\n",
       "      <td>2018</td>\n",
       "    </tr>\n",
       "    <tr>\n",
       "      <th>1</th>\n",
       "      <td>11</td>\n",
       "      <td>4.205</td>\n",
       "      <td>2018</td>\n",
       "    </tr>\n",
       "    <tr>\n",
       "      <th>2</th>\n",
       "      <td>10</td>\n",
       "      <td>3.796</td>\n",
       "      <td>2018</td>\n",
       "    </tr>\n",
       "    <tr>\n",
       "      <th>3</th>\n",
       "      <td>09</td>\n",
       "      <td>6.007</td>\n",
       "      <td>2018</td>\n",
       "    </tr>\n",
       "    <tr>\n",
       "      <th>4</th>\n",
       "      <td>08</td>\n",
       "      <td>4.698</td>\n",
       "      <td>2018</td>\n",
       "    </tr>\n",
       "  </tbody>\n",
       "</table>\n",
       "</div>"
      ],
      "text/plain": [
       "  Month  Value [thousand megawatthours]  Year\n",
       "0    12                           8.232  2018\n",
       "1    11                           4.205  2018\n",
       "2    10                           3.796  2018\n",
       "3    09                           6.007  2018\n",
       "4    08                           4.698  2018"
      ]
     },
     "execution_count": 105,
     "metadata": {},
     "output_type": "execute_result"
    }
   ],
   "source": [
    "# create data frame with column names in it \n",
    "df = pd.DataFrame(data=DOEdf)\n",
    "df.head()"
   ]
  },
  {
   "cell_type": "code",
   "execution_count": 69,
   "metadata": {},
   "outputs": [],
   "source": [
    "from datetime import datetime"
   ]
  },
  {
   "cell_type": "code",
   "execution_count": 70,
   "metadata": {},
   "outputs": [],
   "source": [
    "for "
   ]
  },
  {
   "cell_type": "code",
   "execution_count": 71,
   "metadata": {},
   "outputs": [
    {
     "data": {
      "text/plain": [
       "'201812'"
      ]
     },
     "execution_count": 71,
     "metadata": {},
     "output_type": "execute_result"
    }
   ],
   "source": [
    "xyz"
   ]
  },
  {
   "cell_type": "code",
   "execution_count": 75,
   "metadata": {},
   "outputs": [
    {
     "data": {
      "text/plain": [
       "datetime.datetime(2018, 12, 1, 0, 0)"
      ]
     },
     "execution_count": 75,
     "metadata": {},
     "output_type": "execute_result"
    }
   ],
   "source": [
    "new = datetime.strptime(xyz,'%Y%m')\n",
    "new"
   ]
  },
  {
   "cell_type": "code",
   "execution_count": 80,
   "metadata": {},
   "outputs": [
    {
     "ename": "TypeError",
     "evalue": "'datetime.datetime' object is not callable",
     "output_type": "error",
     "traceback": [
      "\u001b[1;31m---------------------------------------------------------------------------\u001b[0m",
      "\u001b[1;31mTypeError\u001b[0m                                 Traceback (most recent call last)",
      "\u001b[1;32m<ipython-input-80-85039d3971d1>\u001b[0m in \u001b[0;36m<module>\u001b[1;34m()\u001b[0m\n\u001b[1;32m----> 1\u001b[1;33m \u001b[0mnew\u001b[0m\u001b[1;33m(\u001b[0m\u001b[1;34m'%A'\u001b[0m\u001b[1;33m)\u001b[0m\u001b[1;33m\u001b[0m\u001b[0m\n\u001b[0m",
      "\u001b[1;31mTypeError\u001b[0m: 'datetime.datetime' object is not callable"
     ]
    }
   ],
   "source": [
    "new('%A')"
   ]
  },
  {
   "cell_type": "code",
   "execution_count": 82,
   "metadata": {},
   "outputs": [
    {
     "data": {
      "text/plain": [
       "Timestamp('2018-12-01 00:00:00')"
      ]
     },
     "execution_count": 82,
     "metadata": {},
     "output_type": "execute_result"
    }
   ],
   "source": [
    "date = pd.to_datetime(new)\n",
    "date"
   ]
  },
  {
   "cell_type": "code",
   "execution_count": 85,
   "metadata": {},
   "outputs": [
    {
     "data": {
      "text/plain": [
       "'2018'"
      ]
     },
     "execution_count": 85,
     "metadata": {},
     "output_type": "execute_result"
    }
   ],
   "source": [
    "date.strftime('%Y')"
   ]
  },
  {
   "cell_type": "code",
   "execution_count": 87,
   "metadata": {},
   "outputs": [
    {
     "data": {
      "text/plain": [
       "'12'"
      ]
     },
     "execution_count": 87,
     "metadata": {},
     "output_type": "execute_result"
    }
   ],
   "source": [
    "date.strftime('%m')"
   ]
  },
  {
   "cell_type": "code",
   "execution_count": 86,
   "metadata": {},
   "outputs": [
    {
     "ename": "ValueError",
     "evalue": "month must be in 1..12",
     "output_type": "error",
     "traceback": [
      "\u001b[1;31m---------------------------------------------------------------------------\u001b[0m",
      "\u001b[1;31mTypeError\u001b[0m                                 Traceback (most recent call last)",
      "\u001b[1;32mC:\\ProgramData\\Anaconda3\\lib\\site-packages\\pandas\\core\\tools\\datetimes.py\u001b[0m in \u001b[0;36m_convert_listlike\u001b[1;34m(arg, box, format, name, tz)\u001b[0m\n\u001b[0;32m    443\u001b[0m             \u001b[1;32mtry\u001b[0m\u001b[1;33m:\u001b[0m\u001b[1;33m\u001b[0m\u001b[0m\n\u001b[1;32m--> 444\u001b[1;33m                 \u001b[0mvalues\u001b[0m\u001b[1;33m,\u001b[0m \u001b[0mtz\u001b[0m \u001b[1;33m=\u001b[0m \u001b[0mtslib\u001b[0m\u001b[1;33m.\u001b[0m\u001b[0mdatetime_to_datetime64\u001b[0m\u001b[1;33m(\u001b[0m\u001b[0marg\u001b[0m\u001b[1;33m)\u001b[0m\u001b[1;33m\u001b[0m\u001b[0m\n\u001b[0m\u001b[0;32m    445\u001b[0m                 \u001b[1;32mreturn\u001b[0m \u001b[0mDatetimeIndex\u001b[0m\u001b[1;33m.\u001b[0m\u001b[0m_simple_new\u001b[0m\u001b[1;33m(\u001b[0m\u001b[0mvalues\u001b[0m\u001b[1;33m,\u001b[0m \u001b[0mname\u001b[0m\u001b[1;33m=\u001b[0m\u001b[0mname\u001b[0m\u001b[1;33m,\u001b[0m \u001b[0mtz\u001b[0m\u001b[1;33m=\u001b[0m\u001b[0mtz\u001b[0m\u001b[1;33m)\u001b[0m\u001b[1;33m\u001b[0m\u001b[0m\n",
      "\u001b[1;32mpandas/_libs/tslib.pyx\u001b[0m in \u001b[0;36mpandas._libs.tslib.datetime_to_datetime64 (pandas\\_libs\\tslib.c:33275)\u001b[1;34m()\u001b[0m\n",
      "\u001b[1;31mTypeError\u001b[0m: Unrecognized value type: <class 'str'>",
      "\nDuring handling of the above exception, another exception occurred:\n",
      "\u001b[1;31mValueError\u001b[0m                                Traceback (most recent call last)",
      "\u001b[1;32m<ipython-input-86-addb0eb942a1>\u001b[0m in \u001b[0;36m<module>\u001b[1;34m()\u001b[0m\n\u001b[1;32m----> 1\u001b[1;33m \u001b[0mnew_date\u001b[0m \u001b[1;33m=\u001b[0m \u001b[0mpd\u001b[0m\u001b[1;33m.\u001b[0m\u001b[0mto_datetime\u001b[0m\u001b[1;33m(\u001b[0m\u001b[0mxyz\u001b[0m\u001b[1;33m)\u001b[0m\u001b[1;33m\u001b[0m\u001b[0m\n\u001b[0m\u001b[0;32m      2\u001b[0m \u001b[0mnew_date\u001b[0m\u001b[1;33m\u001b[0m\u001b[0m\n",
      "\u001b[1;32mC:\\ProgramData\\Anaconda3\\lib\\site-packages\\pandas\\core\\tools\\datetimes.py\u001b[0m in \u001b[0;36mto_datetime\u001b[1;34m(arg, errors, dayfirst, yearfirst, utc, box, format, exact, unit, infer_datetime_format, origin)\u001b[0m\n\u001b[0;32m    516\u001b[0m         \u001b[0mresult\u001b[0m \u001b[1;33m=\u001b[0m \u001b[0m_convert_listlike\u001b[0m\u001b[1;33m(\u001b[0m\u001b[0marg\u001b[0m\u001b[1;33m,\u001b[0m \u001b[0mbox\u001b[0m\u001b[1;33m,\u001b[0m \u001b[0mformat\u001b[0m\u001b[1;33m)\u001b[0m\u001b[1;33m\u001b[0m\u001b[0m\n\u001b[0;32m    517\u001b[0m     \u001b[1;32melse\u001b[0m\u001b[1;33m:\u001b[0m\u001b[1;33m\u001b[0m\u001b[0m\n\u001b[1;32m--> 518\u001b[1;33m         \u001b[0mresult\u001b[0m \u001b[1;33m=\u001b[0m \u001b[0m_convert_listlike\u001b[0m\u001b[1;33m(\u001b[0m\u001b[0mnp\u001b[0m\u001b[1;33m.\u001b[0m\u001b[0marray\u001b[0m\u001b[1;33m(\u001b[0m\u001b[1;33m[\u001b[0m\u001b[0marg\u001b[0m\u001b[1;33m]\u001b[0m\u001b[1;33m)\u001b[0m\u001b[1;33m,\u001b[0m \u001b[0mbox\u001b[0m\u001b[1;33m,\u001b[0m \u001b[0mformat\u001b[0m\u001b[1;33m)\u001b[0m\u001b[1;33m[\u001b[0m\u001b[1;36m0\u001b[0m\u001b[1;33m]\u001b[0m\u001b[1;33m\u001b[0m\u001b[0m\n\u001b[0m\u001b[0;32m    519\u001b[0m \u001b[1;33m\u001b[0m\u001b[0m\n\u001b[0;32m    520\u001b[0m     \u001b[1;32mreturn\u001b[0m \u001b[0mresult\u001b[0m\u001b[1;33m\u001b[0m\u001b[0m\n",
      "\u001b[1;32mC:\\ProgramData\\Anaconda3\\lib\\site-packages\\pandas\\core\\tools\\datetimes.py\u001b[0m in \u001b[0;36m_convert_listlike\u001b[1;34m(arg, box, format, name, tz)\u001b[0m\n\u001b[0;32m    445\u001b[0m                 \u001b[1;32mreturn\u001b[0m \u001b[0mDatetimeIndex\u001b[0m\u001b[1;33m.\u001b[0m\u001b[0m_simple_new\u001b[0m\u001b[1;33m(\u001b[0m\u001b[0mvalues\u001b[0m\u001b[1;33m,\u001b[0m \u001b[0mname\u001b[0m\u001b[1;33m=\u001b[0m\u001b[0mname\u001b[0m\u001b[1;33m,\u001b[0m \u001b[0mtz\u001b[0m\u001b[1;33m=\u001b[0m\u001b[0mtz\u001b[0m\u001b[1;33m)\u001b[0m\u001b[1;33m\u001b[0m\u001b[0m\n\u001b[0;32m    446\u001b[0m             \u001b[1;32mexcept\u001b[0m \u001b[1;33m(\u001b[0m\u001b[0mValueError\u001b[0m\u001b[1;33m,\u001b[0m \u001b[0mTypeError\u001b[0m\u001b[1;33m)\u001b[0m\u001b[1;33m:\u001b[0m\u001b[1;33m\u001b[0m\u001b[0m\n\u001b[1;32m--> 447\u001b[1;33m                 \u001b[1;32mraise\u001b[0m \u001b[0me\u001b[0m\u001b[1;33m\u001b[0m\u001b[0m\n\u001b[0m\u001b[0;32m    448\u001b[0m \u001b[1;33m\u001b[0m\u001b[0m\n\u001b[0;32m    449\u001b[0m     \u001b[1;32mif\u001b[0m \u001b[0marg\u001b[0m \u001b[1;32mis\u001b[0m \u001b[1;32mNone\u001b[0m\u001b[1;33m:\u001b[0m\u001b[1;33m\u001b[0m\u001b[0m\n",
      "\u001b[1;32mC:\\ProgramData\\Anaconda3\\lib\\site-packages\\pandas\\core\\tools\\datetimes.py\u001b[0m in \u001b[0;36m_convert_listlike\u001b[1;34m(arg, box, format, name, tz)\u001b[0m\n\u001b[0;32m    433\u001b[0m                     \u001b[0mdayfirst\u001b[0m\u001b[1;33m=\u001b[0m\u001b[0mdayfirst\u001b[0m\u001b[1;33m,\u001b[0m\u001b[1;33m\u001b[0m\u001b[0m\n\u001b[0;32m    434\u001b[0m                     \u001b[0myearfirst\u001b[0m\u001b[1;33m=\u001b[0m\u001b[0myearfirst\u001b[0m\u001b[1;33m,\u001b[0m\u001b[1;33m\u001b[0m\u001b[0m\n\u001b[1;32m--> 435\u001b[1;33m                     \u001b[0mrequire_iso8601\u001b[0m\u001b[1;33m=\u001b[0m\u001b[0mrequire_iso8601\u001b[0m\u001b[1;33m\u001b[0m\u001b[0m\n\u001b[0m\u001b[0;32m    436\u001b[0m                 )\n\u001b[0;32m    437\u001b[0m \u001b[1;33m\u001b[0m\u001b[0m\n",
      "\u001b[1;32mpandas/_libs/tslib.pyx\u001b[0m in \u001b[0;36mpandas._libs.tslib.array_to_datetime (pandas\\_libs\\tslib.c:46617)\u001b[1;34m()\u001b[0m\n",
      "\u001b[1;32mpandas/_libs/tslib.pyx\u001b[0m in \u001b[0;36mpandas._libs.tslib.array_to_datetime (pandas\\_libs\\tslib.c:46233)\u001b[1;34m()\u001b[0m\n",
      "\u001b[1;32mpandas/_libs/tslib.pyx\u001b[0m in \u001b[0;36mpandas._libs.tslib.array_to_datetime (pandas\\_libs\\tslib.c:46122)\u001b[1;34m()\u001b[0m\n",
      "\u001b[1;32mpandas/_libs/tslib.pyx\u001b[0m in \u001b[0;36mpandas._libs.tslib.parse_datetime_string (pandas\\_libs\\tslib.c:35351)\u001b[1;34m()\u001b[0m\n",
      "\u001b[1;32mC:\\ProgramData\\Anaconda3\\lib\\site-packages\\dateutil\\parser.py\u001b[0m in \u001b[0;36mparse\u001b[1;34m(timestr, parserinfo, **kwargs)\u001b[0m\n\u001b[0;32m   1180\u001b[0m         \u001b[1;32mreturn\u001b[0m \u001b[0mparser\u001b[0m\u001b[1;33m(\u001b[0m\u001b[0mparserinfo\u001b[0m\u001b[1;33m)\u001b[0m\u001b[1;33m.\u001b[0m\u001b[0mparse\u001b[0m\u001b[1;33m(\u001b[0m\u001b[0mtimestr\u001b[0m\u001b[1;33m,\u001b[0m \u001b[1;33m**\u001b[0m\u001b[0mkwargs\u001b[0m\u001b[1;33m)\u001b[0m\u001b[1;33m\u001b[0m\u001b[0m\n\u001b[0;32m   1181\u001b[0m     \u001b[1;32melse\u001b[0m\u001b[1;33m:\u001b[0m\u001b[1;33m\u001b[0m\u001b[0m\n\u001b[1;32m-> 1182\u001b[1;33m         \u001b[1;32mreturn\u001b[0m \u001b[0mDEFAULTPARSER\u001b[0m\u001b[1;33m.\u001b[0m\u001b[0mparse\u001b[0m\u001b[1;33m(\u001b[0m\u001b[0mtimestr\u001b[0m\u001b[1;33m,\u001b[0m \u001b[1;33m**\u001b[0m\u001b[0mkwargs\u001b[0m\u001b[1;33m)\u001b[0m\u001b[1;33m\u001b[0m\u001b[0m\n\u001b[0m\u001b[0;32m   1183\u001b[0m \u001b[1;33m\u001b[0m\u001b[0m\n\u001b[0;32m   1184\u001b[0m \u001b[1;33m\u001b[0m\u001b[0m\n",
      "\u001b[1;32mC:\\ProgramData\\Anaconda3\\lib\\site-packages\\dateutil\\parser.py\u001b[0m in \u001b[0;36mparse\u001b[1;34m(self, timestr, default, ignoretz, tzinfos, **kwargs)\u001b[0m\n\u001b[0;32m    579\u001b[0m                 \u001b[0mrepl\u001b[0m\u001b[1;33m[\u001b[0m\u001b[1;34m'day'\u001b[0m\u001b[1;33m]\u001b[0m \u001b[1;33m=\u001b[0m \u001b[0mmonthrange\u001b[0m\u001b[1;33m(\u001b[0m\u001b[0mcyear\u001b[0m\u001b[1;33m,\u001b[0m \u001b[0mcmonth\u001b[0m\u001b[1;33m)\u001b[0m\u001b[1;33m[\u001b[0m\u001b[1;36m1\u001b[0m\u001b[1;33m]\u001b[0m\u001b[1;33m\u001b[0m\u001b[0m\n\u001b[0;32m    580\u001b[0m \u001b[1;33m\u001b[0m\u001b[0m\n\u001b[1;32m--> 581\u001b[1;33m         \u001b[0mret\u001b[0m \u001b[1;33m=\u001b[0m \u001b[0mdefault\u001b[0m\u001b[1;33m.\u001b[0m\u001b[0mreplace\u001b[0m\u001b[1;33m(\u001b[0m\u001b[1;33m**\u001b[0m\u001b[0mrepl\u001b[0m\u001b[1;33m)\u001b[0m\u001b[1;33m\u001b[0m\u001b[0m\n\u001b[0m\u001b[0;32m    582\u001b[0m \u001b[1;33m\u001b[0m\u001b[0m\n\u001b[0;32m    583\u001b[0m         \u001b[1;32mif\u001b[0m \u001b[0mres\u001b[0m\u001b[1;33m.\u001b[0m\u001b[0mweekday\u001b[0m \u001b[1;32mis\u001b[0m \u001b[1;32mnot\u001b[0m \u001b[1;32mNone\u001b[0m \u001b[1;32mand\u001b[0m \u001b[1;32mnot\u001b[0m \u001b[0mres\u001b[0m\u001b[1;33m.\u001b[0m\u001b[0mday\u001b[0m\u001b[1;33m:\u001b[0m\u001b[1;33m\u001b[0m\u001b[0m\n",
      "\u001b[1;31mValueError\u001b[0m: month must be in 1..12"
     ]
    }
   ],
   "source": [
    "new_date = pd.to_datetime(xyz)\n",
    "new_date"
   ]
  },
  {
   "cell_type": "code",
   "execution_count": null,
   "metadata": {
    "collapsed": true
   },
   "outputs": [],
   "source": []
  }
 ],
 "metadata": {
  "kernelspec": {
   "display_name": "Python 3",
   "language": "python",
   "name": "python3"
  },
  "language_info": {
   "codemirror_mode": {
    "name": "ipython",
    "version": 3
   },
   "file_extension": ".py",
   "mimetype": "text/x-python",
   "name": "python",
   "nbconvert_exporter": "python",
   "pygments_lexer": "ipython3",
   "version": "3.6.3"
  }
 },
 "nbformat": 4,
 "nbformat_minor": 2
}
